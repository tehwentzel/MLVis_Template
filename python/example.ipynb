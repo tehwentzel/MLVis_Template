{
 "cells": [
  {
   "cell_type": "code",
   "execution_count": null,
   "id": "28cb8397",
   "metadata": {},
   "outputs": [],
   "source": [
    "%load_ext autoreload\n",
    "%autoreload 2\n",
    "\n",
    "import numpy as np\n",
    "import pandas as pd\n",
    "from Constants import *"
   ]
  },
  {
   "cell_type": "code",
   "execution_count": null,
   "id": "b2b5afd6",
   "metadata": {},
   "outputs": [],
   "source": [
    "Const.data_dir"
   ]
  }
 ],
 "metadata": {
  "kernelspec": {
   "display_name": "Python 3 (ipykernel)",
   "language": "python",
   "name": "python3"
  },
  "language_info": {
   "codemirror_mode": {
    "name": "ipython",
    "version": 3
   },
   "file_extension": ".py",
   "mimetype": "text/x-python",
   "name": "python",
   "nbconvert_exporter": "python",
   "pygments_lexer": "ipython3",
   "version": "3.11.8"
  }
 },
 "nbformat": 4,
 "nbformat_minor": 5
}
